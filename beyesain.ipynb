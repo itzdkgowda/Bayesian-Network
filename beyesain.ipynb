{
 "cells": [
  {
   "cell_type": "code",
   "execution_count": null,
   "id": "8a8adec9-37bc-4cca-8daa-9b27ff3d0f30",
   "metadata": {},
   "outputs": [],
   "source": [
    "import pandas as pd\n",
    "import numpy as np\n",
    "from pgmpy.estimators import MaximumLikelihoodEstimator\n",
    "from pgmpy.models import BayesianNetwork\n",
    "from pgmpy.inference import VariableElimination\n",
    "\n",
    "\n",
    "heartDisease = pd.read_csv('heart.csv')\n",
    "heartDisease = heartDisease.replace('?', np.nan)  # Replace '?' with NaN\n",
    "\n",
    "\n",
    "print('Sample instances from the dataset are given below:')\n",
    "print(heartDisease.head())\n",
    "print('\\nAttributes and datatypes:')\n",
    "print(heartDisease.dtypes)\n",
    "\n",
    "\n",
    "model = BayesianNetwork([('age', 'heartdisease'), ('sex', 'heartdisease'), ('exang', 'heartdisease'),\n",
    "                         ('cp', 'heartdisease'), ('heartdisease', 'restecg'), ('heartdisease', 'chol')])\n",
    "\n",
    "\n",
    "print('\\nLearning CPD using Maximum likelihood estimators')\n",
    "model.fit(heartDisease, estimator=MaximumLikelihoodEstimator)\n",
    "\n",
    "\n",
    "print('\\nInferencing with Bayesian Network:')\n",
    "HeartDiseasetest_infer = VariableElimination(model)\n",
    "\n",
    "\n",
    "print('\\n1. Probability of HeartDisease given evidence= restecg')\n",
    "q1 = HeartDiseasetest_infer.query(variables=['heartdisease'], evidence={'restecg': 1})\n",
    "print(q1)\n",
    "\n",
    "\n",
    "print('\\n2. Probability of HeartDisease given evidence= cp')\n",
    "q2 = HeartDiseasetest_infer.query(variables=['heartdisease'], evidence={'cp': 2})\n",
    "print(q2)\n"
   ]
  }
 ],
 "metadata": {
  "kernelspec": {
   "display_name": "Python 3 (ipykernel)",
   "language": "python",
   "name": "python3"
  },
  "language_info": {
   "codemirror_mode": {
    "name": "ipython",
    "version": 3
   },
   "file_extension": ".py",
   "mimetype": "text/x-python",
   "name": "python",
   "nbconvert_exporter": "python",
   "pygments_lexer": "ipython3",
   "version": "3.11.7"
  }
 },
 "nbformat": 4,
 "nbformat_minor": 5
}
